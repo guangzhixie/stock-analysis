{
 "cells": [
  {
   "cell_type": "code",
   "execution_count": 1,
   "metadata": {
    "collapsed": true
   },
   "outputs": [],
   "source": [
    "import pandas as pd\n",
    "import numpy as np\n",
    "import simulator.env as env"
   ]
  },
  {
   "cell_type": "code",
   "execution_count": 2,
   "metadata": {
    "collapsed": true
   },
   "outputs": [],
   "source": [
    "np.random.seed(1337)"
   ]
  },
  {
   "cell_type": "code",
   "execution_count": 2,
   "metadata": {},
   "outputs": [
    {
     "data": {
      "text/plain": [
       "<module 'simulator.env' from 'simulator/env.pyc'>"
      ]
     },
     "execution_count": 2,
     "metadata": {},
     "output_type": "execute_result"
    }
   ],
   "source": [
    "reload(env)"
   ]
  },
  {
   "cell_type": "code",
   "execution_count": 3,
   "metadata": {},
   "outputs": [
    {
     "data": {
      "text/plain": [
       "['current_price',\n",
       " 'rolling_mean',\n",
       " 'rolling_std',\n",
       " 'cross_upper_band',\n",
       " 'cross_lower_band',\n",
       " 'upper_band',\n",
       " 'lower_band',\n",
       " 'price_over_sma']"
      ]
     },
     "execution_count": 3,
     "metadata": {},
     "output_type": "execute_result"
    }
   ],
   "source": [
    "env.state_list"
   ]
  },
  {
   "cell_type": "code",
   "execution_count": 3,
   "metadata": {},
   "outputs": [
    {
     "data": {
      "text/html": [
       "<div>\n",
       "<style>\n",
       "    .dataframe thead tr:only-child th {\n",
       "        text-align: right;\n",
       "    }\n",
       "\n",
       "    .dataframe thead th {\n",
       "        text-align: left;\n",
       "    }\n",
       "\n",
       "    .dataframe tbody tr th {\n",
       "        vertical-align: top;\n",
       "    }\n",
       "</style>\n",
       "<table border=\"1\" class=\"dataframe\">\n",
       "  <thead>\n",
       "    <tr style=\"text-align: right;\">\n",
       "      <th></th>\n",
       "      <th>Open</th>\n",
       "      <th>High</th>\n",
       "      <th>Low</th>\n",
       "      <th>Close</th>\n",
       "      <th>Adj Close</th>\n",
       "      <th>Volume</th>\n",
       "    </tr>\n",
       "    <tr>\n",
       "      <th>Date</th>\n",
       "      <th></th>\n",
       "      <th></th>\n",
       "      <th></th>\n",
       "      <th></th>\n",
       "      <th></th>\n",
       "      <th></th>\n",
       "    </tr>\n",
       "  </thead>\n",
       "  <tbody>\n",
       "    <tr>\n",
       "      <th>2017-04-10</th>\n",
       "      <td>228.000000</td>\n",
       "      <td>228.399994</td>\n",
       "      <td>225.399994</td>\n",
       "      <td>226.399994</td>\n",
       "      <td>225.876862</td>\n",
       "      <td>7479213</td>\n",
       "    </tr>\n",
       "    <tr>\n",
       "      <th>2017-04-11</th>\n",
       "      <td>228.000000</td>\n",
       "      <td>228.000000</td>\n",
       "      <td>224.199997</td>\n",
       "      <td>225.000000</td>\n",
       "      <td>224.480103</td>\n",
       "      <td>9446922</td>\n",
       "    </tr>\n",
       "    <tr>\n",
       "      <th>2017-04-12</th>\n",
       "      <td>225.399994</td>\n",
       "      <td>231.000000</td>\n",
       "      <td>225.199997</td>\n",
       "      <td>231.000000</td>\n",
       "      <td>230.466248</td>\n",
       "      <td>15740467</td>\n",
       "    </tr>\n",
       "    <tr>\n",
       "      <th>2017-04-13</th>\n",
       "      <td>229.600006</td>\n",
       "      <td>233.800003</td>\n",
       "      <td>228.800003</td>\n",
       "      <td>230.600006</td>\n",
       "      <td>230.067169</td>\n",
       "      <td>20659980</td>\n",
       "    </tr>\n",
       "    <tr>\n",
       "      <th>2017-04-18</th>\n",
       "      <td>230.600006</td>\n",
       "      <td>231.800003</td>\n",
       "      <td>228.000000</td>\n",
       "      <td>228.000000</td>\n",
       "      <td>227.473175</td>\n",
       "      <td>14813343</td>\n",
       "    </tr>\n",
       "  </tbody>\n",
       "</table>\n",
       "</div>"
      ],
      "text/plain": [
       "                  Open        High         Low       Close   Adj Close  \\\n",
       "Date                                                                     \n",
       "2017-04-10  228.000000  228.399994  225.399994  226.399994  225.876862   \n",
       "2017-04-11  228.000000  228.000000  224.199997  225.000000  224.480103   \n",
       "2017-04-12  225.399994  231.000000  225.199997  231.000000  230.466248   \n",
       "2017-04-13  229.600006  233.800003  228.800003  230.600006  230.067169   \n",
       "2017-04-18  230.600006  231.800003  228.000000  228.000000  227.473175   \n",
       "\n",
       "              Volume  \n",
       "Date                  \n",
       "2017-04-10   7479213  \n",
       "2017-04-11   9446922  \n",
       "2017-04-12  15740467  \n",
       "2017-04-13  20659980  \n",
       "2017-04-18  14813343  "
      ]
     },
     "execution_count": 3,
     "metadata": {},
     "output_type": "execute_result"
    }
   ],
   "source": [
    "df = pd.read_csv(\"data/0700.HK.csv\", index_col=\"Date\", parse_dates=True)\n",
    "df.head()"
   ]
  },
  {
   "cell_type": "code",
   "execution_count": 5,
   "metadata": {},
   "outputs": [
    {
     "data": {
      "text/plain": [
       "(245, 6)"
      ]
     },
     "execution_count": 5,
     "metadata": {},
     "output_type": "execute_result"
    }
   ],
   "source": [
    "df.shape"
   ]
  },
  {
   "cell_type": "code",
   "execution_count": 6,
   "metadata": {
    "collapsed": true
   },
   "outputs": [],
   "source": [
    "stock_env = env.Environment(data=df, recent_k=60)"
   ]
  },
  {
   "cell_type": "code",
   "execution_count": 7,
   "metadata": {},
   "outputs": [
    {
     "data": {
      "image/png": "[encoded data removed]",
      "text/plain": [
       "<matplotlib.figure.Figure at 0x7fdbc1737550>"
      ]
     },
     "metadata": {},
     "output_type": "display_data"
    }
   ],
   "source": [
    "stock_env.plot(states_to_plot=['current_price', 'upper_band', 'lower_band'])"
   ]
  },
  {
   "cell_type": "markdown",
   "metadata": {
    "collapsed": true
   },
   "source": [
    "## Benchmarks"
   ]
  },
  {
   "cell_type": "code",
   "execution_count": 8,
   "metadata": {
    "collapsed": true
   },
   "outputs": [],
   "source": [
    "import simulator.benchmarks as benchmarks"
   ]
  },
  {
   "cell_type": "code",
   "execution_count": 22,
   "metadata": {},
   "outputs": [
    {
     "data": {
      "text/plain": [
       "<module 'simulator.benchmarks' from 'simulator/benchmarks.py'>"
      ]
     },
     "execution_count": 22,
     "metadata": {},
     "output_type": "execute_result"
    }
   ],
   "source": [
    "reload(benchmarks)"
   ]
  },
  {
   "cell_type": "markdown",
   "metadata": {},
   "source": [
    "### Random"
   ]
  },
  {
   "cell_type": "code",
   "execution_count": 12,
   "metadata": {},
   "outputs": [
    {
     "name": "stdout",
     "output_type": "stream",
     "text": [
      "0.00 stocks, 40895.46 cash, 40895.46 current value, -31.84 percent returns\n"
     ]
    },
    {
     "data": {
      "text/plain": [
       "-31.84089577470689"
      ]
     },
     "execution_count": 12,
     "metadata": {},
     "output_type": "execute_result"
    }
   ],
   "source": [
    "benchmarks.run_random_agent(data=df)"
   ]
  },
  {
   "cell_type": "markdown",
   "metadata": {},
   "source": [
    "### BBA with 0 Threshold"
   ]
  },
  {
   "cell_type": "code",
   "execution_count": 13,
   "metadata": {},
   "outputs": [
    {
     "name": "stdout",
     "output_type": "stream",
     "text": [
      "98.96 stocks, 18000.03 cash, 57757.50 current value, -3.74 percent returns\n"
     ]
    },
    {
     "data": {
      "text/plain": [
       "-3.7374952618413348"
      ]
     },
     "execution_count": 13,
     "metadata": {},
     "output_type": "execute_result"
    }
   ],
   "source": [
    "benchmarks.run_bollingerband_agent(data=df)"
   ]
  },
  {
   "cell_type": "code",
   "execution_count": 20,
   "metadata": {},
   "outputs": [
    {
     "name": "stdout",
     "output_type": "stream",
     "text": [
      "98.96 stocks, 18000.03 cash, 57757.50 current value, -3.74 percent returns\n"
     ]
    },
    {
     "data": {
      "text/plain": [
       "-3.7374952618413348"
      ]
     },
     "execution_count": 20,
     "metadata": {},
     "output_type": "execute_result"
    }
   ],
   "source": [
    "benchmarks.run_bollingerband_agent(data=df, recent_k=60, )"
   ]
  },
  {
   "cell_type": "markdown",
   "metadata": {},
   "source": [
    "### BBA with 5 Threshold"
   ]
  },
  {
   "cell_type": "code",
   "execution_count": 15,
   "metadata": {},
   "outputs": [
    {
     "name": "stdout",
     "output_type": "stream",
     "text": [
      "173.90 stocks, 0.00 cash, 69862.33 current value, 16.44 percent returns\n"
     ]
    },
    {
     "data": {
      "text/plain": [
       "16.437222951484848"
      ]
     },
     "execution_count": 15,
     "metadata": {},
     "output_type": "execute_result"
    }
   ],
   "source": [
    "benchmarks.run_bollingerband_agent(data=df, bollinger_threshold=5)"
   ]
  },
  {
   "cell_type": "code",
   "execution_count": 33,
   "metadata": {},
   "outputs": [
    {
     "name": "stdout",
     "output_type": "stream",
     "text": [
      "152.18 stocks, 0.02 cash, 61135.58 current value, 1.89 percent returns\n"
     ]
    },
    {
     "data": {
      "text/plain": [
       "1.8926402605478021"
      ]
     },
     "execution_count": 33,
     "metadata": {},
     "output_type": "execute_result"
    }
   ],
   "source": [
    "benchmarks.run_bollingerband_agent(data=df, recent_k=60, init_order_ratio=0.9, bollinger_threshold=5)"
   ]
  },
  {
   "cell_type": "code",
   "execution_count": 24,
   "metadata": {},
   "outputs": [
    {
     "name": "stdout",
     "output_type": "stream",
     "text": [
      "141.04 stocks, 0.03 cash, 56661.08 current value, -5.56 percent returns\n"
     ]
    },
    {
     "data": {
      "text/plain": [
       "-5.5648668814863296"
      ]
     },
     "execution_count": 24,
     "metadata": {},
     "output_type": "execute_result"
    }
   ],
   "source": [
    "benchmarks.run_bollingerband_agent(data=df, recent_k=30, bollinger_threshold=5)"
   ]
  },
  {
   "cell_type": "markdown",
   "metadata": {},
   "source": [
    "### BBA with 10 Threshold"
   ]
  },
  {
   "cell_type": "code",
   "execution_count": 16,
   "metadata": {},
   "outputs": [
    {
     "name": "stdout",
     "output_type": "stream",
     "text": [
      "172.11 stocks, 0.01 cash, 69142.66 current value, 15.24 percent returns\n"
     ]
    },
    {
     "data": {
      "text/plain": [
       "15.237759548507045"
      ]
     },
     "execution_count": 16,
     "metadata": {},
     "output_type": "execute_result"
    }
   ],
   "source": [
    "benchmarks.run_bollingerband_agent(data=df, bollinger_threshold=10)"
   ]
  },
  {
   "cell_type": "code",
   "execution_count": 17,
   "metadata": {},
   "outputs": [
    {
     "name": "stdout",
     "output_type": "stream",
     "text": [
      "142.72 stocks, 0.00 cash, 57337.62 current value, -4.44 percent returns\n"
     ]
    },
    {
     "data": {
      "text/plain": [
       "-4.4372969927475543"
      ]
     },
     "execution_count": 17,
     "metadata": {},
     "output_type": "execute_result"
    }
   ],
   "source": [
    "benchmarks.run_bollingerband_agent(data=df, recent_k=60, bollinger_threshold=10)"
   ]
  },
  {
   "cell_type": "code",
   "execution_count": 19,
   "metadata": {},
   "outputs": [
    {
     "name": "stdout",
     "output_type": "stream",
     "text": [
      "96.22 stocks, 18000.03 cash, 56653.64 current value, -5.58 percent returns\n"
     ]
    },
    {
     "data": {
      "text/plain": [
       "-5.5772666819333372"
      ]
     },
     "execution_count": 19,
     "metadata": {},
     "output_type": "execute_result"
    }
   ],
   "source": [
    "benchmarks.run_bollingerband_agent(data=df, recent_k=30, bollinger_threshold=10)"
   ]
  },
  {
   "cell_type": "markdown",
   "metadata": {},
   "source": [
    "### Always Buy"
   ]
  },
  {
   "cell_type": "code",
   "execution_count": 21,
   "metadata": {},
   "outputs": [
    {
     "name": "stdout",
     "output_type": "stream",
     "text": [
      "263.49 stocks, 0.02 cash, 105855.94 current value, 76.43 percent returns\n"
     ]
    },
    {
     "data": {
      "text/plain": [
       "76.426563083703201"
      ]
     },
     "execution_count": 21,
     "metadata": {},
     "output_type": "execute_result"
    }
   ],
   "source": [
    "benchmarks.run_alwaysbuy_agent(data=df)"
   ]
  },
  {
   "cell_type": "code",
   "execution_count": 35,
   "metadata": {},
   "outputs": [
    {
     "name": "stdout",
     "output_type": "stream",
     "text": [
      "134.97 stocks, 0.03 cash, 54222.46 current value, -9.63 percent returns\n"
     ]
    },
    {
     "data": {
      "text/plain": [
       "-9.6292331181223449"
      ]
     },
     "execution_count": 35,
     "metadata": {},
     "output_type": "execute_result"
    }
   ],
   "source": [
    "benchmarks.run_alwaysbuy_agent(data=df, recent_k=60)"
   ]
  },
  {
   "cell_type": "code",
   "execution_count": 36,
   "metadata": {},
   "outputs": [
    {
     "name": "stdout",
     "output_type": "stream",
     "text": [
      "130.72 stocks, 0.02 cash, 52515.09 current value, -12.47 percent returns\n"
     ]
    },
    {
     "data": {
      "text/plain": [
       "-12.474843245665664"
      ]
     },
     "execution_count": 36,
     "metadata": {},
     "output_type": "execute_result"
    }
   ],
   "source": [
    "benchmarks.run_alwaysbuy_agent(data=df, recent_k=30)"
   ]
  },
  {
   "cell_type": "markdown",
   "metadata": {},
   "source": [
    "## DDQN"
   ]
  },
  {
   "cell_type": "code",
   "execution_count": 4,
   "metadata": {},
   "outputs": [
    {
     "name": "stderr",
     "output_type": "stream",
     "text": [
      "Using TensorFlow backend.\n"
     ]
    }
   ],
   "source": [
    "import simulator.ddqn_agent as agent"
   ]
  },
  {
   "cell_type": "code",
   "execution_count": 13,
   "metadata": {},
   "outputs": [
    {
     "data": {
      "text/plain": [
       "<module 'simulator.ddqn_agent' from 'simulator/ddqn_agent.py'>"
      ]
     },
     "execution_count": 13,
     "metadata": {},
     "output_type": "execute_result"
    }
   ],
   "source": [
    "reload(agent)"
   ]
  },
  {
   "cell_type": "code",
   "execution_count": 5,
   "metadata": {},
   "outputs": [],
   "source": [
    "trader = agent.DDQNAgent(data=df, verbose = False,\n",
    "                      epsilon_min = 0.0,\n",
    "                      external_states = [\"current_price\", \"cross_upper_band\", \"cross_lower_band\"],\n",
    "                      internal_states = [\"is_holding_stock\"])"
   ]
  },
  {
   "cell_type": "code",
   "execution_count": 6,
   "metadata": {},
   "outputs": [
    {
     "data": {
      "image/png": "[encoded data removed]",
      "text/plain": [
       "<matplotlib.figure.Figure at 0x7f0e60a8d6d0>"
      ]
     },
     "metadata": {},
     "output_type": "display_data"
    }
   ],
   "source": [
    "trader.plot_env(states_to_plot=[\"current_price\", \"upper_band\", \"lower_band\"])"
   ]
  },
  {
   "cell_type": "code",
   "execution_count": 7,
   "metadata": {},
   "outputs": [
    {
     "name": "stdout",
     "output_type": "stream",
     "text": [
      "episode: 1/800, returns: -42.8006376911, epsilon: 1.0\n",
      "episode: 2/800, returns: -21.2987377359, epsilon: 0.99\n",
      "episode: 3/800, returns: -51.2249147138, epsilon: 0.99\n",
      "episode: 4/800, returns: -56.5210806799, epsilon: 0.99\n",
      "episode: 5/800, returns: -40.544374788, epsilon: 0.98\n",
      "episode: 6/800, returns: -40.197244811, epsilon: 0.98\n",
      "episode: 7/800, returns: -47.542782501, epsilon: 0.97\n",
      "episode: 8/800, returns: -39.3309977435, epsilon: 0.97\n",
      "episode: 9/800, returns: -54.3923973121, epsilon: 0.96\n",
      "episode: 10/800, returns: -39.2207076787, epsilon: 0.96\n",
      "episode: 11/800, returns: -31.0095887076, epsilon: 0.95\n",
      "episode: 12/800, returns: -52.0088925927, epsilon: 0.95\n",
      "episode: 13/800, returns: -39.7552943591, epsilon: 0.94\n",
      "episode: 14/800, returns: -49.4254192688, epsilon: 0.94\n",
      "episode: 15/800, returns: -34.4809977389, epsilon: 0.93\n",
      "episode: 16/800, returns: -34.2577765396, epsilon: 0.93\n",
      "episode: 17/800, returns: -32.5329954208, epsilon: 0.92\n",
      "episode: 18/800, returns: -38.4125501156, epsilon: 0.92\n",
      "episode: 19/800, returns: -35.5048154602, epsilon: 0.91\n",
      "episode: 20/800, returns: -34.8959759684, epsilon: 0.91\n",
      "episode: 21/800, returns: -20.4170699168, epsilon: 0.9\n",
      "episode: 22/800, returns: -38.4939927851, epsilon: 0.9\n",
      "episode: 23/800, returns: -40.6343329997, epsilon: 0.9\n",
      "episode: 24/800, returns: -55.4773498018, epsilon: 0.89\n",
      "episode: 25/800, returns: -45.623068483, epsilon: 0.89\n",
      "episode: 26/800, returns: -44.8491619399, epsilon: 0.88\n",
      "episode: 27/800, returns: -44.904510422, epsilon: 0.88\n",
      "episode: 28/800, returns: -24.8351318105, epsilon: 0.87\n",
      "episode: 29/800, returns: -36.9190790286, epsilon: 0.87\n",
      "episode: 30/800, returns: -37.4185582983, epsilon: 0.86\n",
      "episode: 31/800, returns: -43.9556580377, epsilon: 0.86\n",
      "episode: 32/800, returns: -32.9463945997, epsilon: 0.86\n",
      "episode: 33/800, returns: -25.1931614449, epsilon: 0.85\n",
      "episode: 34/800, returns: -41.6110055832, epsilon: 0.85\n",
      "episode: 35/800, returns: -41.1916257547, epsilon: 0.84\n",
      "episode: 36/800, returns: -23.6480236896, epsilon: 0.84\n",
      "episode: 37/800, returns: -10.1749526153, epsilon: 0.83\n",
      "episode: 38/800, returns: -19.2556346821, epsilon: 0.83\n",
      "episode: 39/800, returns: -43.1183147022, epsilon: 0.83\n",
      "episode: 40/800, returns: -19.3373403345, epsilon: 0.82\n",
      "episode: 41/800, returns: -19.5193786193, epsilon: 0.82\n",
      "episode: 42/800, returns: -32.075150648, epsilon: 0.81\n",
      "episode: 43/800, returns: -19.843633845, epsilon: 0.81\n",
      "episode: 44/800, returns: -21.5074591842, epsilon: 0.81\n",
      "episode: 45/800, returns: -8.1578823588, epsilon: 0.8\n",
      "episode: 46/800, returns: -41.9194343045, epsilon: 0.8\n",
      "episode: 47/800, returns: -19.445927153, epsilon: 0.79\n",
      "episode: 48/800, returns: -42.6163214976, epsilon: 0.79\n",
      "episode: 49/800, returns: -30.5100739593, epsilon: 0.79\n",
      "episode: 50/800, returns: -31.2088501654, epsilon: 0.78\n",
      "episode: 51/800, returns: -45.8314501277, epsilon: 0.78\n",
      "episode: 52/800, returns: -26.5914334221, epsilon: 0.77\n",
      "episode: 53/800, returns: -30.1558266216, epsilon: 0.77\n",
      "episode: 54/800, returns: -61.5984116549, epsilon: 0.77\n",
      "episode: 55/800, returns: -31.4821243253, epsilon: 0.76\n",
      "episode: 56/800, returns: -18.797618269, epsilon: 0.76\n",
      "episode: 57/800, returns: -46.6528687713, epsilon: 0.76\n",
      "episode: 58/800, returns: -20.7339590217, epsilon: 0.75\n",
      "episode: 59/800, returns: -29.8577896318, epsilon: 0.75\n",
      "episode: 60/800, returns: -35.4335836737, epsilon: 0.74\n",
      "episode: 61/800, returns: -31.8802272599, epsilon: 0.74\n",
      "episode: 62/800, returns: -43.1452187314, epsilon: 0.74\n",
      "episode: 63/800, returns: -36.3472870441, epsilon: 0.73\n",
      "episode: 64/800, returns: -37.0215227305, epsilon: 0.73\n",
      "episode: 65/800, returns: -19.3161297854, epsilon: 0.73\n",
      "episode: 66/800, returns: -26.4988899585, epsilon: 0.72\n",
      "episode: 67/800, returns: -30.3253750405, epsilon: 0.72\n",
      "episode: 68/800, returns: -11.7685673079, epsilon: 0.71\n",
      "episode: 69/800, returns: -25.7333574763, epsilon: 0.71\n",
      "episode: 70/800, returns: -19.2424332005, epsilon: 0.71\n",
      "episode: 71/800, returns: -45.458490659, epsilon: 0.7\n",
      "episode: 72/800, returns: -17.2782537664, epsilon: 0.7\n",
      "episode: 73/800, returns: -18.5496510212, epsilon: 0.7\n",
      "episode: 74/800, returns: -19.6923414275, epsilon: 0.69\n",
      "episode: 75/800, returns: -16.856610696, epsilon: 0.69\n",
      "episode: 76/800, returns: -10.2905035056, epsilon: 0.69\n",
      "episode: 77/800, returns: -24.0432816762, epsilon: 0.68\n",
      "episode: 78/800, returns: -13.6301863169, epsilon: 0.68\n",
      "episode: 79/800, returns: -16.725096832, epsilon: 0.68\n",
      "episode: 80/800, returns: -28.5803749412, epsilon: 0.67\n",
      "episode: 81/800, returns: -2.06599392269, epsilon: 0.67\n",
      "episode: 82/800, returns: -8.62195494541, epsilon: 0.67\n",
      "episode: 83/800, returns: -15.6576164426, epsilon: 0.66\n",
      "episode: 84/800, returns: -21.6814968707, epsilon: 0.66\n",
      "episode: 85/800, returns: -27.2814741913, epsilon: 0.66\n",
      "episode: 86/800, returns: -24.3915257581, epsilon: 0.65\n",
      "episode: 87/800, returns: -25.1021421532, epsilon: 0.65\n",
      "episode: 88/800, returns: 2.78369477345, epsilon: 0.65\n",
      "episode: 89/800, returns: -34.1844700717, epsilon: 0.64\n",
      "episode: 90/800, returns: -37.8429072445, epsilon: 0.64\n",
      "episode: 91/800, returns: -20.4532962391, epsilon: 0.64\n",
      "episode: 92/800, returns: -17.2798504507, epsilon: 0.63\n",
      "episode: 93/800, returns: 9.42117990691, epsilon: 0.63\n",
      "episode: 94/800, returns: -7.19061999403, epsilon: 0.63\n",
      "episode: 95/800, returns: -12.6603332639, epsilon: 0.62\n",
      "episode: 96/800, returns: -4.8017602594, epsilon: 0.62\n",
      "episode: 97/800, returns: -17.6504713267, epsilon: 0.62\n",
      "episode: 98/800, returns: 12.080367467, epsilon: 0.61\n",
      "episode: 99/800, returns: -8.14444028019, epsilon: 0.61\n",
      "episode: 100/800, returns: -7.53196160116, epsilon: 0.61\n",
      "episode: 101/800, returns: -40.2644211548, epsilon: 0.61\n",
      "episode: 102/800, returns: 2.58998735007, epsilon: 0.6\n",
      "episode: 103/800, returns: -24.0846415976, epsilon: 0.6\n",
      "episode: 104/800, returns: -40.0342017072, epsilon: 0.6\n",
      "episode: 105/800, returns: -32.9256466399, epsilon: 0.59\n",
      "episode: 106/800, returns: -26.2023345997, epsilon: 0.59\n",
      "episode: 107/800, returns: -16.7619023286, epsilon: 0.59\n",
      "episode: 108/800, returns: -35.3818038362, epsilon: 0.58\n",
      "episode: 109/800, returns: -13.4238861361, epsilon: 0.58\n",
      "episode: 110/800, returns: -29.9208584642, epsilon: 0.58\n",
      "episode: 111/800, returns: -14.52597971, epsilon: 0.58\n",
      "episode: 112/800, returns: -40.3293232841, epsilon: 0.57\n",
      "episode: 113/800, returns: -10.7963880065, epsilon: 0.57\n",
      "episode: 114/800, returns: -27.4250847117, epsilon: 0.57\n",
      "episode: 115/800, returns: -9.69557686004, epsilon: 0.56\n",
      "episode: 116/800, returns: -18.4290852016, epsilon: 0.56\n",
      "episode: 117/800, returns: -11.9074133327, epsilon: 0.56\n",
      "episode: 118/800, returns: -11.2196057075, epsilon: 0.56\n",
      "episode: 119/800, returns: -27.1515906337, epsilon: 0.55\n",
      "episode: 120/800, returns: -30.7292936192, epsilon: 0.55\n",
      "episode: 121/800, returns: 3.10444782, epsilon: 0.55\n",
      "episode: 122/800, returns: -24.655775184, epsilon: 0.55\n",
      "episode: 123/800, returns: -53.8939428746, epsilon: 0.54\n",
      "episode: 124/800, returns: -48.9601510442, epsilon: 0.54\n",
      "episode: 125/800, returns: -0.187042637532, epsilon: 0.54\n",
      "episode: 126/800, returns: 25.0094176847, epsilon: 0.53\n",
      "episode: 127/800, returns: -9.25582979016, epsilon: 0.53\n",
      "episode: 128/800, returns: 25.2931077905, epsilon: 0.53\n",
      "episode: 129/800, returns: -22.429496462, epsilon: 0.53\n",
      "episode: 130/800, returns: -5.07242202386, epsilon: 0.52\n",
      "episode: 131/800, returns: -21.6621922678, epsilon: 0.52\n",
      "episode: 132/800, returns: 0.788967211675, epsilon: 0.52\n",
      "episode: 133/800, returns: -20.4352282118, epsilon: 0.52\n",
      "episode: 134/800, returns: -19.7957666937, epsilon: 0.51\n",
      "episode: 135/800, returns: -15.1353829455, epsilon: 0.51\n",
      "episode: 136/800, returns: 4.67737427175, epsilon: 0.51\n",
      "episode: 137/800, returns: -16.1653319004, epsilon: 0.51\n",
      "episode: 138/800, returns: -1.55259003973, epsilon: 0.5\n",
      "episode: 139/800, returns: -20.1994678149, epsilon: 0.5\n",
      "episode: 140/800, returns: -25.4153144652, epsilon: 0.5\n",
      "episode: 141/800, returns: -16.7526111101, epsilon: 0.5\n",
      "episode: 142/800, returns: -11.466590643, epsilon: 0.49\n",
      "episode: 143/800, returns: -36.4126905317, epsilon: 0.49\n",
      "episode: 144/800, returns: -19.1369014109, epsilon: 0.49\n",
      "episode: 145/800, returns: -16.4434122034, epsilon: 0.49\n",
      "episode: 146/800, returns: 14.4657994461, epsilon: 0.48\n",
      "episode: 147/800, returns: -20.7858469116, epsilon: 0.48\n"
     ]
    },
    {
     "name": "stdout",
     "output_type": "stream",
     "text": [
      "episode: 148/800, returns: -26.0329897922, epsilon: 0.48\n",
      "episode: 149/800, returns: -19.2508491505, epsilon: 0.48\n",
      "episode: 150/800, returns: -15.2289090294, epsilon: 0.47\n",
      "episode: 151/800, returns: -22.9021636572, epsilon: 0.47\n",
      "episode: 152/800, returns: 12.2092236256, epsilon: 0.47\n",
      "episode: 153/800, returns: -19.8188918524, epsilon: 0.47\n",
      "episode: 154/800, returns: -26.914504085, epsilon: 0.46\n",
      "episode: 155/800, returns: -13.0090965039, epsilon: 0.46\n",
      "episode: 156/800, returns: 18.4543356811, epsilon: 0.46\n",
      "episode: 157/800, returns: 13.2256215968, epsilon: 0.46\n",
      "episode: 158/800, returns: -19.8180111863, epsilon: 0.46\n",
      "episode: 159/800, returns: 4.64909160521, epsilon: 0.45\n",
      "episode: 160/800, returns: -19.8867017975, epsilon: 0.45\n",
      "episode: 161/800, returns: 6.1261692238, epsilon: 0.45\n",
      "episode: 162/800, returns: -35.1920649207, epsilon: 0.45\n",
      "episode: 163/800, returns: 6.44817296217, epsilon: 0.44\n",
      "episode: 164/800, returns: -20.0619281207, epsilon: 0.44\n",
      "episode: 165/800, returns: -4.65340735475, epsilon: 0.44\n",
      "episode: 166/800, returns: -3.445464215, epsilon: 0.44\n",
      "episode: 167/800, returns: 3.20732791473, epsilon: 0.44\n",
      "episode: 168/800, returns: -16.6738487462, epsilon: 0.43\n",
      "episode: 169/800, returns: -22.4684990632, epsilon: 0.43\n",
      "episode: 170/800, returns: -5.43822958008, epsilon: 0.43\n",
      "episode: 171/800, returns: 15.5478500833, epsilon: 0.43\n",
      "episode: 172/800, returns: -16.8354590064, epsilon: 0.42\n",
      "episode: 173/800, returns: -17.3402866036, epsilon: 0.42\n",
      "episode: 174/800, returns: -13.5472300985, epsilon: 0.42\n",
      "episode: 175/800, returns: -22.9942810497, epsilon: 0.42\n",
      "episode: 176/800, returns: 28.1709182861, epsilon: 0.42\n",
      "episode: 177/800, returns: -19.4925825462, epsilon: 0.41\n",
      "episode: 178/800, returns: -9.57195384529, epsilon: 0.41\n",
      "episode: 179/800, returns: 57.953062959, epsilon: 0.41\n",
      "episode: 180/800, returns: 12.4534552064, epsilon: 0.41\n",
      "episode: 181/800, returns: -1.0101363705, epsilon: 0.41\n",
      "episode: 182/800, returns: -0.0152684530947, epsilon: 0.4\n",
      "episode: 183/800, returns: -1.18613623146, epsilon: 0.4\n",
      "episode: 184/800, returns: -3.4904038236, epsilon: 0.4\n",
      "episode: 185/800, returns: -1.15416271953, epsilon: 0.4\n",
      "episode: 186/800, returns: -6.90781897715, epsilon: 0.4\n",
      "episode: 187/800, returns: -12.8209681086, epsilon: 0.39\n",
      "episode: 188/800, returns: -16.0271392044, epsilon: 0.39\n",
      "episode: 189/800, returns: -28.4565600474, epsilon: 0.39\n",
      "episode: 190/800, returns: -17.1463753865, epsilon: 0.39\n",
      "episode: 191/800, returns: -21.5870066847, epsilon: 0.39\n",
      "episode: 192/800, returns: -10.0585446738, epsilon: 0.38\n",
      "episode: 193/800, returns: -20.5721618779, epsilon: 0.38\n",
      "episode: 194/800, returns: 4.83256066877, epsilon: 0.38\n",
      "episode: 195/800, returns: -12.2375526648, epsilon: 0.38\n",
      "episode: 196/800, returns: -4.36133255136, epsilon: 0.38\n",
      "episode: 197/800, returns: 9.89214746396, epsilon: 0.37\n",
      "episode: 198/800, returns: -23.1585942618, epsilon: 0.37\n",
      "episode: 199/800, returns: 16.0869957163, epsilon: 0.37\n",
      "episode: 200/800, returns: 12.5267389871, epsilon: 0.37\n",
      "episode: 201/800, returns: 1.28121232996, epsilon: 0.37\n",
      "episode: 202/800, returns: 6.29481813448, epsilon: 0.37\n",
      "episode: 203/800, returns: 16.9774934313, epsilon: 0.36\n",
      "episode: 204/800, returns: 3.54973633064, epsilon: 0.36\n",
      "episode: 205/800, returns: 9.87411585151, epsilon: 0.36\n",
      "episode: 206/800, returns: 13.4555740934, epsilon: 0.36\n",
      "episode: 207/800, returns: -29.5460948244, epsilon: 0.36\n",
      "episode: 208/800, returns: -12.4429146318, epsilon: 0.35\n",
      "episode: 209/800, returns: -10.2920852075, epsilon: 0.35\n",
      "episode: 210/800, returns: -5.41155179876, epsilon: 0.35\n",
      "episode: 211/800, returns: 14.5976396876, epsilon: 0.35\n",
      "episode: 212/800, returns: -24.5726840562, epsilon: 0.35\n",
      "episode: 213/800, returns: 1.81125803647, epsilon: 0.35\n",
      "episode: 214/800, returns: 11.5364923087, epsilon: 0.34\n",
      "episode: 215/800, returns: -14.9978884242, epsilon: 0.34\n",
      "episode: 216/800, returns: 7.45482671184, epsilon: 0.34\n",
      "episode: 217/800, returns: -3.44768914655, epsilon: 0.34\n",
      "episode: 218/800, returns: -0.816106922819, epsilon: 0.34\n",
      "episode: 219/800, returns: -3.085974005, epsilon: 0.34\n",
      "episode: 220/800, returns: -0.415752017134, epsilon: 0.33\n",
      "episode: 221/800, returns: 3.05067990701, epsilon: 0.33\n",
      "episode: 222/800, returns: -2.30666469994, epsilon: 0.33\n",
      "episode: 223/800, returns: -7.99346663241, epsilon: 0.33\n",
      "episode: 224/800, returns: -5.03788357055, epsilon: 0.33\n",
      "episode: 225/800, returns: -8.53741963304, epsilon: 0.33\n",
      "episode: 226/800, returns: 4.06495773364, epsilon: 0.32\n",
      "episode: 227/800, returns: 1.60461080939, epsilon: 0.32\n",
      "episode: 228/800, returns: 0.744706258395, epsilon: 0.32\n",
      "episode: 229/800, returns: 12.9874100048, epsilon: 0.32\n",
      "episode: 230/800, returns: 40.8331064087, epsilon: 0.32\n",
      "episode: 231/800, returns: 26.5564277237, epsilon: 0.32\n",
      "episode: 232/800, returns: 12.0194147027, epsilon: 0.31\n",
      "episode: 233/800, returns: 0.617267146543, epsilon: 0.31\n",
      "episode: 234/800, returns: -1.62160033654, epsilon: 0.31\n",
      "episode: 235/800, returns: 5.01756708947, epsilon: 0.31\n",
      "episode: 236/800, returns: 20.5262194014, epsilon: 0.31\n",
      "episode: 237/800, returns: -3.4282468178, epsilon: 0.31\n",
      "episode: 238/800, returns: 4.0933402652, epsilon: 0.3\n",
      "episode: 239/800, returns: 15.9893418429, epsilon: 0.3\n",
      "episode: 240/800, returns: -5.22989769001, epsilon: 0.3\n",
      "episode: 241/800, returns: 19.5416495493, epsilon: 0.3\n",
      "episode: 242/800, returns: -5.2802440599, epsilon: 0.3\n",
      "episode: 243/800, returns: 8.59291425045, epsilon: 0.3\n",
      "episode: 244/800, returns: 20.0531451612, epsilon: 0.3\n",
      "episode: 245/800, returns: 12.2249670704, epsilon: 0.29\n",
      "episode: 246/800, returns: 23.3772404644, epsilon: 0.29\n",
      "episode: 247/800, returns: 18.2638429649, epsilon: 0.29\n",
      "episode: 248/800, returns: -1.44650525471, epsilon: 0.29\n",
      "episode: 249/800, returns: 24.0340677283, epsilon: 0.29\n",
      "episode: 250/800, returns: 10.9183887655, epsilon: 0.29\n",
      "episode: 251/800, returns: 28.7273148067, epsilon: 0.29\n",
      "episode: 252/800, returns: 11.0974665778, epsilon: 0.28\n",
      "episode: 253/800, returns: 21.2056465357, epsilon: 0.28\n",
      "episode: 254/800, returns: 5.95587551533, epsilon: 0.28\n",
      "episode: 255/800, returns: 3.11684308775, epsilon: 0.28\n",
      "episode: 256/800, returns: -8.54326057444, epsilon: 0.28\n",
      "episode: 257/800, returns: 26.4954135068, epsilon: 0.28\n",
      "episode: 258/800, returns: 15.6662422947, epsilon: 0.28\n",
      "episode: 259/800, returns: 15.9009012337, epsilon: 0.27\n",
      "episode: 260/800, returns: 23.9522369877, epsilon: 0.27\n",
      "episode: 261/800, returns: -7.83366874804, epsilon: 0.27\n",
      "episode: 262/800, returns: 23.9444676501, epsilon: 0.27\n",
      "episode: 263/800, returns: 37.9705375517, epsilon: 0.27\n",
      "episode: 264/800, returns: -10.2049423316, epsilon: 0.27\n",
      "episode: 265/800, returns: 11.9170796256, epsilon: 0.27\n",
      "episode: 266/800, returns: 0.489454810499, epsilon: 0.26\n",
      "episode: 267/800, returns: -0.863055319688, epsilon: 0.26\n",
      "episode: 268/800, returns: 13.8130302563, epsilon: 0.26\n",
      "episode: 269/800, returns: 22.4417997981, epsilon: 0.26\n",
      "episode: 270/800, returns: 22.5337638534, epsilon: 0.26\n",
      "episode: 271/800, returns: 46.4560088415, epsilon: 0.26\n",
      "episode: 272/800, returns: 11.8357111808, epsilon: 0.26\n",
      "episode: 273/800, returns: 46.3161526869, epsilon: 0.26\n",
      "episode: 274/800, returns: 14.9276530011, epsilon: 0.25\n",
      "episode: 275/800, returns: 6.81998085019, epsilon: 0.25\n",
      "episode: 276/800, returns: 22.8921463484, epsilon: 0.25\n",
      "episode: 277/800, returns: 22.8045289637, epsilon: 0.25\n",
      "episode: 278/800, returns: 18.098690734, epsilon: 0.25\n",
      "episode: 279/800, returns: -7.05633273332, epsilon: 0.25\n",
      "episode: 280/800, returns: 14.0422882052, epsilon: 0.25\n",
      "episode: 281/800, returns: 40.3614384609, epsilon: 0.25\n",
      "episode: 282/800, returns: 19.6236176479, epsilon: 0.24\n",
      "episode: 283/800, returns: 15.6417006389, epsilon: 0.24\n",
      "episode: 284/800, returns: 30.1354605329, epsilon: 0.24\n",
      "episode: 285/800, returns: 5.86293829791, epsilon: 0.24\n",
      "episode: 286/800, returns: 21.8771374727, epsilon: 0.24\n",
      "episode: 287/800, returns: 18.2187688932, epsilon: 0.24\n",
      "episode: 288/800, returns: -18.824823986, epsilon: 0.24\n",
      "episode: 289/800, returns: 11.3097590878, epsilon: 0.24\n",
      "episode: 290/800, returns: 26.5270938052, epsilon: 0.23\n",
      "episode: 291/800, returns: 35.2910447312, epsilon: 0.23\n",
      "episode: 292/800, returns: 26.0648496417, epsilon: 0.23\n",
      "episode: 293/800, returns: -3.0512826789, epsilon: 0.23\n"
     ]
    },
    {
     "name": "stdout",
     "output_type": "stream",
     "text": [
      "episode: 294/800, returns: 11.8878473849, epsilon: 0.23\n",
      "episode: 295/800, returns: 4.02220229406, epsilon: 0.23\n",
      "episode: 296/800, returns: -1.63325322434, epsilon: 0.23\n",
      "episode: 297/800, returns: 18.5611437803, epsilon: 0.23\n",
      "episode: 298/800, returns: 5.89019313871, epsilon: 0.23\n",
      "episode: 299/800, returns: 8.25497308471, epsilon: 0.22\n",
      "episode: 300/800, returns: 18.7477845932, epsilon: 0.22\n",
      "episode: 301/800, returns: 1.23159570248, epsilon: 0.22\n",
      "episode: 302/800, returns: 11.2050142408, epsilon: 0.22\n",
      "episode: 303/800, returns: 18.1292689801, epsilon: 0.22\n",
      "episode: 304/800, returns: 8.69786891464, epsilon: 0.22\n",
      "episode: 305/800, returns: 22.9314170744, epsilon: 0.22\n",
      "episode: 306/800, returns: 30.1666229073, epsilon: 0.22\n",
      "episode: 307/800, returns: 24.9839954994, epsilon: 0.22\n",
      "episode: 308/800, returns: 24.8597497537, epsilon: 0.21\n",
      "episode: 309/800, returns: -11.1411899553, epsilon: 0.21\n",
      "episode: 310/800, returns: 14.9796486476, epsilon: 0.21\n",
      "episode: 311/800, returns: 29.0512573659, epsilon: 0.21\n",
      "episode: 312/800, returns: 10.7352498096, epsilon: 0.21\n",
      "episode: 313/800, returns: 6.65864258134, epsilon: 0.21\n",
      "episode: 314/800, returns: -3.87403805545, epsilon: 0.21\n",
      "episode: 315/800, returns: 31.1403255086, epsilon: 0.21\n",
      "episode: 316/800, returns: 30.3751637596, epsilon: 0.21\n",
      "episode: 317/800, returns: 45.2514940928, epsilon: 0.21\n",
      "episode: 318/800, returns: 9.71623344207, epsilon: 0.2\n",
      "episode: 319/800, returns: 23.453123549, epsilon: 0.2\n",
      "episode: 320/800, returns: 9.0089737577, epsilon: 0.2\n",
      "episode: 321/800, returns: 12.6577271507, epsilon: 0.2\n",
      "episode: 322/800, returns: 13.2705424625, epsilon: 0.2\n",
      "episode: 323/800, returns: 18.7864414132, epsilon: 0.2\n",
      "episode: 324/800, returns: 15.2115435072, epsilon: 0.2\n",
      "episode: 325/800, returns: 44.8291785557, epsilon: 0.2\n",
      "episode: 326/800, returns: -8.90958151226, epsilon: 0.2\n",
      "episode: 327/800, returns: -5.35040321243, epsilon: 0.2\n",
      "episode: 328/800, returns: 24.4878307406, epsilon: 0.19\n",
      "episode: 329/800, returns: 28.2632292961, epsilon: 0.19\n",
      "episode: 330/800, returns: -3.09493997627, epsilon: 0.19\n",
      "episode: 331/800, returns: 21.4000585573, epsilon: 0.19\n",
      "episode: 332/800, returns: 33.8981579152, epsilon: 0.19\n",
      "episode: 333/800, returns: 47.916963351, epsilon: 0.19\n",
      "episode: 334/800, returns: 27.59694682, epsilon: 0.19\n",
      "episode: 335/800, returns: 24.1702972194, epsilon: 0.19\n",
      "episode: 336/800, returns: 15.6753273033, epsilon: 0.19\n",
      "episode: 337/800, returns: 28.4808595308, epsilon: 0.19\n",
      "episode: 338/800, returns: 34.2935633949, epsilon: 0.18\n",
      "episode: 339/800, returns: 34.4154366466, epsilon: 0.18\n",
      "episode: 340/800, returns: 40.6097664067, epsilon: 0.18\n",
      "episode: 341/800, returns: 37.4008515522, epsilon: 0.18\n",
      "episode: 342/800, returns: 28.2403719427, epsilon: 0.18\n",
      "episode: 343/800, returns: 50.0559570281, epsilon: 0.18\n",
      "episode: 344/800, returns: 14.9942177551, epsilon: 0.18\n",
      "episode: 345/800, returns: 30.8683656035, epsilon: 0.18\n",
      "episode: 346/800, returns: 20.3749314933, epsilon: 0.18\n",
      "episode: 347/800, returns: 37.6735982373, epsilon: 0.18\n",
      "episode: 348/800, returns: 10.1571476858, epsilon: 0.18\n",
      "episode: 349/800, returns: 15.3836374382, epsilon: 0.17\n",
      "episode: 350/800, returns: 18.9629328871, epsilon: 0.17\n",
      "episode: 351/800, returns: 24.9742292821, epsilon: 0.17\n",
      "episode: 352/800, returns: -12.222012416, epsilon: 0.17\n",
      "episode: 353/800, returns: 9.04360749052, epsilon: 0.17\n",
      "episode: 354/800, returns: 17.6397181613, epsilon: 0.17\n",
      "episode: 355/800, returns: 33.4132009284, epsilon: 0.17\n",
      "episode: 356/800, returns: 37.8733708342, epsilon: 0.17\n",
      "episode: 357/800, returns: 42.8712944053, epsilon: 0.17\n",
      "episode: 358/800, returns: 39.2028871378, epsilon: 0.17\n",
      "episode: 359/800, returns: 25.9923143737, epsilon: 0.17\n",
      "episode: 360/800, returns: 49.9274034229, epsilon: 0.17\n",
      "episode: 361/800, returns: 49.8232832618, epsilon: 0.16\n",
      "episode: 362/800, returns: 38.467051462, epsilon: 0.16\n",
      "episode: 363/800, returns: 49.3965599687, epsilon: 0.16\n",
      "episode: 364/800, returns: 57.74569089, epsilon: 0.16\n",
      "episode: 365/800, returns: 39.8110288431, epsilon: 0.16\n",
      "episode: 366/800, returns: 37.6416931523, epsilon: 0.16\n",
      "episode: 367/800, returns: 48.6383715634, epsilon: 0.16\n",
      "episode: 368/800, returns: -6.49212265487, epsilon: 0.16\n",
      "episode: 369/800, returns: -8.97449405959, epsilon: 0.16\n",
      "episode: 370/800, returns: 49.9797689871, epsilon: 0.16\n",
      "episode: 371/800, returns: 68.9051513905, epsilon: 0.16\n",
      "episode: 372/800, returns: 30.5716624304, epsilon: 0.16\n",
      "episode: 373/800, returns: 47.085869127, epsilon: 0.15\n",
      "episode: 374/800, returns: 8.26807704194, epsilon: 0.15\n",
      "episode: 375/800, returns: 14.5683101529, epsilon: 0.15\n",
      "episode: 376/800, returns: 50.1221654661, epsilon: 0.15\n",
      "episode: 377/800, returns: 39.8648965272, epsilon: 0.15\n",
      "episode: 378/800, returns: 20.0572719902, epsilon: 0.15\n",
      "episode: 379/800, returns: 33.712129, epsilon: 0.15\n",
      "episode: 380/800, returns: 40.6469141368, epsilon: 0.15\n",
      "episode: 381/800, returns: 20.3106866695, epsilon: 0.15\n",
      "episode: 382/800, returns: 32.5191752809, epsilon: 0.15\n",
      "episode: 383/800, returns: 37.4377096766, epsilon: 0.15\n",
      "episode: 384/800, returns: 53.1303490757, epsilon: 0.15\n",
      "episode: 385/800, returns: 27.1373203421, epsilon: 0.15\n",
      "episode: 386/800, returns: 17.03867498, epsilon: 0.15\n",
      "episode: 387/800, returns: 23.6025020446, epsilon: 0.14\n",
      "episode: 388/800, returns: 22.3149171227, epsilon: 0.14\n",
      "episode: 389/800, returns: 28.9466913226, epsilon: 0.14\n",
      "episode: 390/800, returns: -8.3462713708, epsilon: 0.14\n",
      "episode: 391/800, returns: 39.9129097567, epsilon: 0.14\n",
      "episode: 392/800, returns: 47.1869143672, epsilon: 0.14\n",
      "episode: 393/800, returns: 43.0243763348, epsilon: 0.14\n",
      "episode: 394/800, returns: 2.67548322322, epsilon: 0.14\n",
      "episode: 395/800, returns: 42.1428162503, epsilon: 0.14\n",
      "episode: 396/800, returns: 49.7535383002, epsilon: 0.14\n",
      "episode: 397/800, returns: 54.1375698682, epsilon: 0.14\n",
      "episode: 398/800, returns: 40.194763351, epsilon: 0.14\n",
      "episode: 399/800, returns: 49.2471936851, epsilon: 0.14\n",
      "episode: 400/800, returns: 24.2992212665, epsilon: 0.14\n",
      "episode: 401/800, returns: 38.7734461165, epsilon: 0.13\n",
      "episode: 402/800, returns: 28.470277401, epsilon: 0.13\n",
      "episode: 403/800, returns: 55.5686931831, epsilon: 0.13\n",
      "episode: 404/800, returns: 28.3054320383, epsilon: 0.13\n",
      "episode: 405/800, returns: 45.5178003146, epsilon: 0.13\n",
      "episode: 406/800, returns: 43.3380893081, epsilon: 0.13\n",
      "episode: 407/800, returns: 35.2724949828, epsilon: 0.13\n",
      "episode: 408/800, returns: 27.5684153888, epsilon: 0.13\n",
      "episode: 409/800, returns: 8.56023042466, epsilon: 0.13\n",
      "episode: 410/800, returns: 38.5668411183, epsilon: 0.13\n",
      "episode: 411/800, returns: 11.2192062088, epsilon: 0.13\n",
      "episode: 412/800, returns: 25.7472297131, epsilon: 0.13\n",
      "episode: 413/800, returns: 37.7125612723, epsilon: 0.13\n",
      "episode: 414/800, returns: 46.4909562989, epsilon: 0.13\n",
      "episode: 415/800, returns: 37.1133151518, epsilon: 0.13\n",
      "episode: 416/800, returns: 52.6442549742, epsilon: 0.12\n",
      "episode: 417/800, returns: 26.6709581663, epsilon: 0.12\n",
      "episode: 418/800, returns: 44.4596775952, epsilon: 0.12\n",
      "episode: 419/800, returns: 41.633004959, epsilon: 0.12\n",
      "episode: 420/800, returns: 2.29254295983, epsilon: 0.12\n",
      "episode: 421/800, returns: 35.9009088128, epsilon: 0.12\n",
      "episode: 422/800, returns: 15.0670763767, epsilon: 0.12\n",
      "episode: 423/800, returns: 56.3988336486, epsilon: 0.12\n",
      "episode: 424/800, returns: 33.5608362261, epsilon: 0.12\n",
      "episode: 425/800, returns: 18.8091393962, epsilon: 0.12\n",
      "episode: 426/800, returns: 45.0145315519, epsilon: 0.12\n",
      "episode: 427/800, returns: 42.4573465708, epsilon: 0.12\n",
      "episode: 428/800, returns: 56.0371335262, epsilon: 0.12\n",
      "episode: 429/800, returns: 51.8378854576, epsilon: 0.12\n",
      "episode: 430/800, returns: 35.2510096147, epsilon: 0.12\n",
      "episode: 431/800, returns: 44.6165418736, epsilon: 0.12\n",
      "episode: 432/800, returns: 0.534567432618, epsilon: 0.12\n",
      "episode: 433/800, returns: 58.9964637631, epsilon: 0.11\n",
      "episode: 434/800, returns: 19.1503756835, epsilon: 0.11\n",
      "episode: 435/800, returns: 3.75443667474, epsilon: 0.11\n",
      "episode: 436/800, returns: 71.6446064367, epsilon: 0.11\n",
      "episode: 437/800, returns: 35.0204684905, epsilon: 0.11\n",
      "episode: 438/800, returns: 42.18119276, epsilon: 0.11\n",
      "episode: 439/800, returns: 60.9642725313, epsilon: 0.11\n",
      "episode: 440/800, returns: 50.1558268157, epsilon: 0.11\n"
     ]
    },
    {
     "name": "stdout",
     "output_type": "stream",
     "text": [
      "episode: 441/800, returns: 45.8368118237, epsilon: 0.11\n",
      "episode: 442/800, returns: 61.5420244851, epsilon: 0.11\n",
      "episode: 443/800, returns: 36.087889777, epsilon: 0.11\n",
      "episode: 444/800, returns: 58.8209109447, epsilon: 0.11\n",
      "episode: 445/800, returns: 36.8663649942, epsilon: 0.11\n",
      "episode: 446/800, returns: 49.1541251356, epsilon: 0.11\n",
      "episode: 447/800, returns: 52.2802005542, epsilon: 0.11\n",
      "episode: 448/800, returns: 48.4821022831, epsilon: 0.11\n",
      "episode: 449/800, returns: -2.55426836127, epsilon: 0.11\n",
      "episode: 450/800, returns: 18.2826048617, epsilon: 0.11\n",
      "episode: 451/800, returns: 53.9758646635, epsilon: 0.1\n",
      "episode: 452/800, returns: 36.8318955034, epsilon: 0.1\n",
      "episode: 453/800, returns: 22.9429944402, epsilon: 0.1\n",
      "episode: 454/800, returns: 14.3939860225, epsilon: 0.1\n",
      "episode: 455/800, returns: 9.28788528363, epsilon: 0.1\n",
      "episode: 456/800, returns: 58.8622374193, epsilon: 0.1\n",
      "episode: 457/800, returns: 34.8436346388, epsilon: 0.1\n",
      "episode: 458/800, returns: 29.3754759066, epsilon: 0.1\n",
      "episode: 459/800, returns: 62.4354680977, epsilon: 0.1\n",
      "episode: 460/800, returns: 37.6792567651, epsilon: 0.1\n",
      "episode: 461/800, returns: 60.1195042509, epsilon: 0.1\n",
      "episode: 462/800, returns: 48.2306684684, epsilon: 0.099\n",
      "episode: 463/800, returns: 55.8563061203, epsilon: 0.099\n",
      "episode: 464/800, returns: 33.4632673044, epsilon: 0.098\n",
      "episode: 465/800, returns: 20.1229001324, epsilon: 0.098\n",
      "episode: 466/800, returns: 60.4128528159, epsilon: 0.097\n",
      "episode: 467/800, returns: 50.536406577, epsilon: 0.097\n",
      "episode: 468/800, returns: 45.0748513957, epsilon: 0.096\n",
      "episode: 469/800, returns: 49.559947411, epsilon: 0.096\n",
      "episode: 470/800, returns: 41.6016533213, epsilon: 0.095\n",
      "episode: 471/800, returns: 13.9274049763, epsilon: 0.095\n",
      "episode: 472/800, returns: 50.6782774381, epsilon: 0.094\n",
      "episode: 473/800, returns: 3.39661098606, epsilon: 0.094\n",
      "episode: 474/800, returns: 58.8219382686, epsilon: 0.093\n",
      "episode: 475/800, returns: 8.47692267485, epsilon: 0.093\n",
      "episode: 476/800, returns: 3.47857165359, epsilon: 0.092\n",
      "episode: 477/800, returns: 38.902456526, epsilon: 0.092\n",
      "episode: 478/800, returns: 45.9940530465, epsilon: 0.092\n",
      "episode: 479/800, returns: 60.820866929, epsilon: 0.091\n",
      "episode: 480/800, returns: 50.1931188368, epsilon: 0.091\n",
      "episode: 481/800, returns: 46.0153477028, epsilon: 0.09\n",
      "episode: 482/800, returns: 39.5669345358, epsilon: 0.09\n",
      "episode: 483/800, returns: 59.7825634808, epsilon: 0.089\n",
      "episode: 484/800, returns: 36.0684643911, epsilon: 0.089\n",
      "episode: 485/800, returns: 60.0148384251, epsilon: 0.088\n",
      "episode: 486/800, returns: 61.7844130773, epsilon: 0.088\n",
      "episode: 487/800, returns: 36.4085942563, epsilon: 0.088\n",
      "episode: 488/800, returns: 66.5257387033, epsilon: 0.087\n",
      "episode: 489/800, returns: 55.4958317308, epsilon: 0.087\n",
      "episode: 490/800, returns: 38.8991174895, epsilon: 0.086\n",
      "episode: 491/800, returns: 57.3420570034, epsilon: 0.086\n",
      "episode: 492/800, returns: 51.7192103863, epsilon: 0.085\n",
      "episode: 493/800, returns: 51.4903584629, epsilon: 0.085\n",
      "episode: 494/800, returns: 77.774792507, epsilon: 0.084\n",
      "episode: 495/800, returns: 68.9674100998, epsilon: 0.084\n",
      "episode: 496/800, returns: 27.8939672217, epsilon: 0.084\n",
      "episode: 497/800, returns: 17.2787088964, epsilon: 0.083\n",
      "episode: 498/800, returns: 1.82125747486, epsilon: 0.083\n",
      "episode: 499/800, returns: 28.9836978519, epsilon: 0.082\n",
      "episode: 500/800, returns: 37.3095171293, epsilon: 0.082\n",
      "episode: 501/800, returns: 26.8242433535, epsilon: 0.082\n",
      "episode: 502/800, returns: 30.6118688424, epsilon: 0.081\n",
      "episode: 503/800, returns: 19.2815698409, epsilon: 0.081\n",
      "episode: 504/800, returns: 58.4542883849, epsilon: 0.08\n",
      "episode: 505/800, returns: 70.9337438908, epsilon: 0.08\n",
      "episode: 506/800, returns: 25.9942935073, epsilon: 0.08\n",
      "episode: 507/800, returns: 63.0423310147, epsilon: 0.079\n",
      "episode: 508/800, returns: 52.7717684105, epsilon: 0.079\n",
      "episode: 509/800, returns: 73.1927461875, epsilon: 0.078\n",
      "episode: 510/800, returns: 68.3403713683, epsilon: 0.078\n",
      "episode: 511/800, returns: 65.1407331516, epsilon: 0.078\n",
      "episode: 512/800, returns: 53.0135685698, epsilon: 0.077\n",
      "episode: 513/800, returns: 51.6681981861, epsilon: 0.077\n",
      "episode: 514/800, returns: 54.4040131818, epsilon: 0.076\n",
      "episode: 515/800, returns: 78.1279682283, epsilon: 0.076\n",
      "episode: 516/800, returns: 60.4239632847, epsilon: 0.076\n",
      "episode: 517/800, returns: 68.5088297918, epsilon: 0.075\n",
      "episode: 518/800, returns: 27.6805033672, epsilon: 0.075\n",
      "episode: 519/800, returns: 10.2654475002, epsilon: 0.075\n",
      "episode: 520/800, returns: 15.9769755022, epsilon: 0.074\n",
      "episode: 521/800, returns: 28.9157191854, epsilon: 0.074\n",
      "episode: 522/800, returns: 48.7445193354, epsilon: 0.073\n",
      "episode: 523/800, returns: 78.065278653, epsilon: 0.073\n",
      "episode: 524/800, returns: 56.4520650373, epsilon: 0.073\n",
      "episode: 525/800, returns: 54.0242376229, epsilon: 0.072\n",
      "episode: 526/800, returns: 62.6932486691, epsilon: 0.072\n",
      "episode: 527/800, returns: 66.0979984346, epsilon: 0.072\n",
      "episode: 528/800, returns: 50.998778505, epsilon: 0.071\n",
      "episode: 529/800, returns: 44.3659196016, epsilon: 0.071\n",
      "episode: 530/800, returns: 53.4198032652, epsilon: 0.071\n",
      "episode: 531/800, returns: 53.6992540056, epsilon: 0.07\n",
      "episode: 532/800, returns: 48.6349043629, epsilon: 0.07\n",
      "episode: 533/800, returns: 11.1475863497, epsilon: 0.069\n",
      "episode: 534/800, returns: 8.54533504173, epsilon: 0.069\n",
      "episode: 535/800, returns: 2.75616737921, epsilon: 0.069\n",
      "episode: 536/800, returns: 13.7655290813, epsilon: 0.068\n",
      "episode: 537/800, returns: 34.901585574, epsilon: 0.068\n",
      "episode: 538/800, returns: 56.6248825994, epsilon: 0.068\n",
      "episode: 539/800, returns: 60.0298346792, epsilon: 0.067\n",
      "episode: 540/800, returns: 60.9240229787, epsilon: 0.067\n",
      "episode: 541/800, returns: 61.0505232656, epsilon: 0.067\n",
      "episode: 542/800, returns: 51.5725313491, epsilon: 0.066\n",
      "episode: 543/800, returns: 52.9116104494, epsilon: 0.066\n",
      "episode: 544/800, returns: 60.457156416, epsilon: 0.066\n",
      "episode: 545/800, returns: 55.6688278899, epsilon: 0.065\n",
      "episode: 546/800, returns: 65.0726699938, epsilon: 0.065\n",
      "episode: 547/800, returns: 33.3667851355, epsilon: 0.065\n",
      "episode: 548/800, returns: 27.7137498087, epsilon: 0.064\n",
      "episode: 549/800, returns: -2.06922993944, epsilon: 0.064\n",
      "episode: 550/800, returns: 16.2681129534, epsilon: 0.064\n",
      "episode: 551/800, returns: 16.0438171303, epsilon: 0.063\n",
      "episode: 552/800, returns: 39.2320069307, epsilon: 0.063\n",
      "episode: 553/800, returns: 16.9674113225, epsilon: 0.063\n",
      "episode: 554/800, returns: -7.71027851398, epsilon: 0.063\n",
      "episode: 555/800, returns: 67.0133676581, epsilon: 0.062\n",
      "episode: 556/800, returns: 50.1081858972, epsilon: 0.062\n",
      "episode: 557/800, returns: 70.0518337689, epsilon: 0.062\n",
      "episode: 558/800, returns: 60.3780499513, epsilon: 0.061\n",
      "episode: 559/800, returns: 55.4383639352, epsilon: 0.061\n",
      "episode: 560/800, returns: 52.0257121226, epsilon: 0.061\n",
      "episode: 561/800, returns: 56.1354184312, epsilon: 0.06\n",
      "episode: 562/800, returns: 63.8879827134, epsilon: 0.06\n",
      "episode: 563/800, returns: 66.7409955755, epsilon: 0.06\n",
      "episode: 564/800, returns: 66.0871966004, epsilon: 0.059\n",
      "episode: 565/800, returns: 55.6670614458, epsilon: 0.059\n",
      "episode: 566/800, returns: 62.2965820705, epsilon: 0.059\n",
      "episode: 567/800, returns: 48.5971344948, epsilon: 0.059\n",
      "episode: 568/800, returns: 67.6876336765, epsilon: 0.058\n",
      "episode: 569/800, returns: 73.9984910191, epsilon: 0.058\n",
      "episode: 570/800, returns: 60.5414142327, epsilon: 0.058\n",
      "episode: 571/800, returns: 22.1936989662, epsilon: 0.057\n",
      "episode: 572/800, returns: 36.7864757357, epsilon: 0.057\n",
      "episode: 573/800, returns: 23.6697509968, epsilon: 0.057\n",
      "episode: 574/800, returns: -7.45685796348, epsilon: 0.057\n",
      "episode: 575/800, returns: 30.1005766909, epsilon: 0.056\n",
      "episode: 576/800, returns: 39.9810858974, epsilon: 0.056\n",
      "episode: 577/800, returns: 0.73157277, epsilon: 0.056\n",
      "episode: 578/800, returns: 22.7851478181, epsilon: 0.055\n",
      "episode: 579/800, returns: 20.3492482883, epsilon: 0.055\n",
      "episode: 580/800, returns: 58.4936436271, epsilon: 0.055\n",
      "episode: 581/800, returns: 67.5338161183, epsilon: 0.055\n",
      "episode: 582/800, returns: 86.0083859734, epsilon: 0.054\n",
      "episode: 583/800, returns: 66.5280140271, epsilon: 0.054\n",
      "episode: 584/800, returns: 75.9674403088, epsilon: 0.054\n",
      "episode: 585/800, returns: 65.3500255294, epsilon: 0.054\n"
     ]
    },
    {
     "name": "stdout",
     "output_type": "stream",
     "text": [
      "episode: 586/800, returns: 50.4621906626, epsilon: 0.053\n",
      "episode: 587/800, returns: 6.19761570073, epsilon: 0.053\n",
      "episode: 588/800, returns: 2.63627314788, epsilon: 0.053\n",
      "episode: 589/800, returns: 49.0168086386, epsilon: 0.052\n",
      "episode: 590/800, returns: 14.4864128069, epsilon: 0.052\n",
      "episode: 591/800, returns: 36.4039715247, epsilon: 0.052\n",
      "episode: 592/800, returns: -8.15779638741, epsilon: 0.052\n",
      "episode: 593/800, returns: -5.7051848332, epsilon: 0.051\n",
      "episode: 594/800, returns: 35.6257056853, epsilon: 0.051\n",
      "episode: 595/800, returns: 59.7965937124, epsilon: 0.051\n",
      "episode: 596/800, returns: 49.4975423003, epsilon: 0.051\n",
      "episode: 597/800, returns: 60.6708104649, epsilon: 0.05\n",
      "episode: 598/800, returns: 65.6176668523, epsilon: 0.05\n",
      "episode: 599/800, returns: 71.6372051521, epsilon: 0.05\n",
      "episode: 600/800, returns: 56.5529614278, epsilon: 0.05\n",
      "episode: 601/800, returns: 74.424132971, epsilon: 0.049\n",
      "episode: 602/800, returns: 66.5782588621, epsilon: 0.049\n",
      "episode: 603/800, returns: 74.1322508695, epsilon: 0.049\n",
      "episode: 604/800, returns: 61.0105008241, epsilon: 0.049\n",
      "episode: 605/800, returns: 65.6583808995, epsilon: 0.048\n",
      "episode: 606/800, returns: 33.112556766, epsilon: 0.048\n",
      "episode: 607/800, returns: 72.21930364, epsilon: 0.048\n",
      "episode: 608/800, returns: 52.1467422677, epsilon: 0.048\n",
      "episode: 609/800, returns: 47.1603111951, epsilon: 0.047\n",
      "episode: 610/800, returns: 68.4786791714, epsilon: 0.047\n",
      "episode: 611/800, returns: 52.9034070858, epsilon: 0.047\n",
      "episode: 612/800, returns: 68.9112744689, epsilon: 0.047\n",
      "episode: 613/800, returns: 66.171433725, epsilon: 0.047\n",
      "episode: 614/800, returns: 53.3449434859, epsilon: 0.046\n",
      "episode: 615/800, returns: 71.7503912928, epsilon: 0.046\n",
      "episode: 616/800, returns: 43.902443774, epsilon: 0.046\n",
      "episode: 617/800, returns: 63.4884787844, epsilon: 0.046\n",
      "episode: 618/800, returns: 54.9797700532, epsilon: 0.045\n",
      "episode: 619/800, returns: 58.7694565343, epsilon: 0.045\n",
      "episode: 620/800, returns: 64.4036219194, epsilon: 0.045\n",
      "episode: 621/800, returns: 66.1765708394, epsilon: 0.045\n",
      "episode: 622/800, returns: 72.3988173506, epsilon: 0.044\n",
      "episode: 623/800, returns: 89.1827094005, epsilon: 0.044\n",
      "episode: 624/800, returns: 53.0805973946, epsilon: 0.044\n",
      "episode: 625/800, returns: 78.0322972109, epsilon: 0.044\n",
      "episode: 626/800, returns: 69.9970405159, epsilon: 0.044\n",
      "episode: 627/800, returns: 13.7443875195, epsilon: 0.043\n",
      "episode: 628/800, returns: 15.7808983538, epsilon: 0.043\n",
      "episode: 629/800, returns: 16.2102386225, epsilon: 0.043\n",
      "episode: 630/800, returns: 40.1357181255, epsilon: 0.043\n",
      "episode: 631/800, returns: 15.4743349845, epsilon: 0.043\n",
      "episode: 632/800, returns: 43.7855743294, epsilon: 0.042\n",
      "episode: 633/800, returns: 1.14295392791, epsilon: 0.042\n",
      "episode: 634/800, returns: 71.8867107392, epsilon: 0.042\n",
      "episode: 635/800, returns: 58.6696980812, epsilon: 0.042\n",
      "episode: 636/800, returns: 76.4265630837, epsilon: 0.041\n",
      "episode: 637/800, returns: 62.4382960865, epsilon: 0.041\n",
      "episode: 638/800, returns: 76.4265630837, epsilon: 0.041\n",
      "episode: 639/800, returns: 70.4846021409, epsilon: 0.041\n",
      "episode: 640/800, returns: 67.50640588, epsilon: 0.041\n",
      "episode: 641/800, returns: 66.4087581543, epsilon: 0.04\n",
      "episode: 642/800, returns: 66.9860982869, epsilon: 0.04\n",
      "episode: 643/800, returns: 63.5236098188, epsilon: 0.04\n",
      "episode: 644/800, returns: 37.1487588835, epsilon: 0.04\n",
      "episode: 645/800, returns: 76.4265630837, epsilon: 0.04\n",
      "episode: 646/800, returns: 59.6146448883, epsilon: 0.039\n",
      "episode: 647/800, returns: 51.3880789026, epsilon: 0.039\n",
      "episode: 648/800, returns: 5.70730124523, epsilon: 0.039\n",
      "episode: 649/800, returns: 66.8349968604, epsilon: 0.039\n",
      "episode: 650/800, returns: 72.4024697245, epsilon: 0.039\n",
      "episode: 651/800, returns: 67.2999648547, epsilon: 0.038\n",
      "episode: 652/800, returns: 81.767323435, epsilon: 0.038\n",
      "episode: 653/800, returns: -14.522310851, epsilon: 0.038\n",
      "episode: 654/800, returns: 30.9871351397, epsilon: 0.038\n",
      "episode: 655/800, returns: 39.3400788477, epsilon: 0.038\n",
      "episode: 656/800, returns: 11.7950731242, epsilon: 0.038\n",
      "episode: 657/800, returns: 68.6505241258, epsilon: 0.037\n",
      "episode: 658/800, returns: 64.0789612338, epsilon: 0.037\n",
      "episode: 659/800, returns: 73.3667756891, epsilon: 0.037\n",
      "episode: 660/800, returns: 68.6070444211, epsilon: 0.037\n",
      "episode: 661/800, returns: 54.1641166229, epsilon: 0.037\n",
      "episode: 662/800, returns: 64.2496684372, epsilon: 0.036\n",
      "episode: 663/800, returns: 70.7921255082, epsilon: 0.036\n",
      "episode: 664/800, returns: 62.176686332, epsilon: 0.036\n",
      "episode: 665/800, returns: -6.47738431956, epsilon: 0.036\n",
      "episode: 666/800, returns: -14.9615576518, epsilon: 0.036\n",
      "episode: 667/800, returns: 45.9151997642, epsilon: 0.035\n",
      "episode: 668/800, returns: 30.1162105997, epsilon: 0.035\n",
      "episode: 669/800, returns: 0.632935180404, epsilon: 0.035\n",
      "episode: 670/800, returns: 21.1361708731, epsilon: 0.035\n",
      "episode: 671/800, returns: 57.8195465929, epsilon: 0.035\n",
      "episode: 672/800, returns: 69.9302724817, epsilon: 0.035\n",
      "episode: 673/800, returns: 63.8337668666, epsilon: 0.034\n",
      "episode: 674/800, returns: 57.1528634509, epsilon: 0.034\n",
      "episode: 675/800, returns: 67.2313759365, epsilon: 0.034\n",
      "episode: 676/800, returns: 78.772262572, epsilon: 0.034\n",
      "episode: 677/800, returns: 58.4714827701, epsilon: 0.034\n",
      "episode: 678/800, returns: 56.1844775434, epsilon: 0.034\n",
      "episode: 679/800, returns: 55.9662563821, epsilon: 0.033\n",
      "episode: 680/800, returns: 62.649544875, epsilon: 0.033\n",
      "episode: 681/800, returns: 67.4483493307, epsilon: 0.033\n",
      "episode: 682/800, returns: 77.9449413054, epsilon: 0.033\n",
      "episode: 683/800, returns: 75.1905794639, epsilon: 0.033\n",
      "episode: 684/800, returns: 62.1599150824, epsilon: 0.033\n",
      "episode: 685/800, returns: 68.1587521544, epsilon: 0.032\n",
      "episode: 686/800, returns: 63.7718944275, epsilon: 0.032\n",
      "episode: 687/800, returns: 62.1544982143, epsilon: 0.032\n",
      "episode: 688/800, returns: 70.053207431, epsilon: 0.032\n",
      "episode: 689/800, returns: 72.7862893711, epsilon: 0.032\n",
      "episode: 690/800, returns: 73.2092179857, epsilon: 0.032\n",
      "episode: 691/800, returns: 72.5241534041, epsilon: 0.031\n",
      "episode: 692/800, returns: 15.8861691343, epsilon: 0.031\n",
      "episode: 693/800, returns: 51.1109073554, epsilon: 0.031\n",
      "episode: 694/800, returns: 2.51698815432, epsilon: 0.031\n",
      "episode: 695/800, returns: 0.0, epsilon: 0.031\n",
      "episode: 696/800, returns: 67.3333568622, epsilon: 0.031\n",
      "episode: 697/800, returns: 72.7362324654, epsilon: 0.031\n",
      "episode: 698/800, returns: 60.6409649392, epsilon: 0.03\n",
      "episode: 699/800, returns: 59.2039666149, epsilon: 0.03\n",
      "episode: 700/800, returns: 69.6691492889, epsilon: 0.03\n",
      "episode: 701/800, returns: 70.0682621908, epsilon: 0.03\n",
      "episode: 702/800, returns: 74.8431845757, epsilon: 0.03\n",
      "episode: 703/800, returns: 65.9370707307, epsilon: 0.03\n",
      "episode: 704/800, returns: 73.9442728734, epsilon: 0.029\n",
      "episode: 705/800, returns: 66.6002032811, epsilon: 0.029\n",
      "episode: 706/800, returns: 77.1144595147, epsilon: 0.029\n",
      "episode: 707/800, returns: 5.09406483391, epsilon: 0.029\n",
      "episode: 708/800, returns: 0.0, epsilon: 0.029\n",
      "episode: 709/800, returns: -7.82155775485, epsilon: 0.029\n",
      "episode: 710/800, returns: 76.4265630837, epsilon: 0.029\n",
      "episode: 711/800, returns: 70.4281416542, epsilon: 0.028\n",
      "episode: 712/800, returns: 77.5858594155, epsilon: 0.028\n",
      "episode: 713/800, returns: 62.3443627423, epsilon: 0.028\n",
      "episode: 714/800, returns: 53.34314831, epsilon: 0.028\n",
      "episode: 715/800, returns: 53.9577353716, epsilon: 0.028\n",
      "episode: 716/800, returns: 75.9060257196, epsilon: 0.028\n",
      "episode: 717/800, returns: 60.2581633678, epsilon: 0.028\n",
      "episode: 718/800, returns: 62.2242756184, epsilon: 0.027\n",
      "episode: 719/800, returns: 72.8523570356, epsilon: 0.027\n",
      "episode: 720/800, returns: 71.2802577754, epsilon: 0.027\n",
      "episode: 721/800, returns: 73.5903271025, epsilon: 0.027\n",
      "episode: 722/800, returns: 72.2881026883, epsilon: 0.027\n",
      "episode: 723/800, returns: 70.531125102, epsilon: 0.027\n",
      "episode: 724/800, returns: 72.7546900999, epsilon: 0.027\n",
      "episode: 725/800, returns: 68.8002772064, epsilon: 0.027\n",
      "episode: 726/800, returns: 68.5904253273, epsilon: 0.026\n",
      "episode: 727/800, returns: 62.7506564606, epsilon: 0.026\n",
      "episode: 728/800, returns: 59.4391767048, epsilon: 0.026\n",
      "episode: 729/800, returns: 72.3805598489, epsilon: 0.026\n",
      "episode: 730/800, returns: 77.1289156638, epsilon: 0.026\n"
     ]
    },
    {
     "name": "stdout",
     "output_type": "stream",
     "text": [
      "episode: 731/800, returns: 29.1331494555, epsilon: 0.026\n",
      "episode: 732/800, returns: 0.0, epsilon: 0.026\n",
      "episode: 733/800, returns: 38.9232606221, epsilon: 0.025\n",
      "episode: 734/800, returns: 0.449444612255, epsilon: 0.025\n",
      "episode: 735/800, returns: 8.01610145074, epsilon: 0.025\n",
      "episode: 736/800, returns: -2.587450002, epsilon: 0.025\n",
      "episode: 737/800, returns: 2.92294203271, epsilon: 0.025\n",
      "episode: 738/800, returns: 64.6272727893, epsilon: 0.025\n",
      "episode: 739/800, returns: 69.1186603192, epsilon: 0.025\n",
      "episode: 740/800, returns: 69.957286885, epsilon: 0.025\n",
      "episode: 741/800, returns: 76.4265630837, epsilon: 0.024\n",
      "episode: 742/800, returns: 72.2169728291, epsilon: 0.024\n",
      "episode: 743/800, returns: 62.4158922715, epsilon: 0.024\n",
      "episode: 744/800, returns: 51.3683812023, epsilon: 0.024\n",
      "episode: 745/800, returns: 77.4267455225, epsilon: 0.024\n",
      "episode: 746/800, returns: 76.4265630837, epsilon: 0.024\n",
      "episode: 747/800, returns: 76.4265630837, epsilon: 0.024\n",
      "episode: 748/800, returns: 70.9871790219, epsilon: 0.024\n",
      "episode: 749/800, returns: 75.8381185475, epsilon: 0.024\n",
      "episode: 750/800, returns: 69.8821460143, epsilon: 0.023\n",
      "episode: 751/800, returns: 74.2688087229, epsilon: 0.023\n",
      "episode: 752/800, returns: 56.5455556416, epsilon: 0.023\n",
      "episode: 753/800, returns: 55.9864769292, epsilon: 0.023\n",
      "episode: 754/800, returns: 72.9698414156, epsilon: 0.023\n",
      "episode: 755/800, returns: 58.3345182272, epsilon: 0.023\n",
      "episode: 756/800, returns: 65.0013496996, epsilon: 0.023\n",
      "episode: 757/800, returns: 76.4265630837, epsilon: 0.023\n",
      "episode: 758/800, returns: 66.7713071478, epsilon: 0.022\n",
      "episode: 759/800, returns: 65.891692086, epsilon: 0.022\n",
      "episode: 760/800, returns: 75.8241002933, epsilon: 0.022\n",
      "episode: 761/800, returns: 73.4281904054, epsilon: 0.022\n",
      "episode: 762/800, returns: 6.38807634188, epsilon: 0.022\n",
      "episode: 763/800, returns: 0.0, epsilon: 0.022\n",
      "episode: 764/800, returns: 66.7409955755, epsilon: 0.022\n",
      "episode: 765/800, returns: 76.4265630837, epsilon: 0.022\n",
      "episode: 766/800, returns: 76.4265630837, epsilon: 0.022\n",
      "episode: 767/800, returns: 75.720163564, epsilon: 0.022\n",
      "episode: 768/800, returns: 65.1015015937, epsilon: 0.021\n",
      "episode: 769/800, returns: 59.5709722568, epsilon: 0.021\n",
      "episode: 770/800, returns: 64.8313362998, epsilon: 0.021\n",
      "episode: 771/800, returns: 76.4265630837, epsilon: 0.021\n",
      "episode: 772/800, returns: 76.4265630837, epsilon: 0.021\n",
      "episode: 773/800, returns: 71.8948542583, epsilon: 0.021\n",
      "episode: 774/800, returns: 73.7919163567, epsilon: 0.021\n",
      "episode: 775/800, returns: 67.7066577207, epsilon: 0.021\n",
      "episode: 776/800, returns: 59.5290424794, epsilon: 0.021\n",
      "episode: 777/800, returns: 9.63403597377, epsilon: 0.02\n",
      "episode: 778/800, returns: -6.77678268791, epsilon: 0.02\n",
      "episode: 779/800, returns: 2.21405807347, epsilon: 0.02\n",
      "episode: 780/800, returns: 27.5112843849, epsilon: 0.02\n",
      "episode: 781/800, returns: 76.4265630837, epsilon: 0.02\n",
      "episode: 782/800, returns: 76.1958703945, epsilon: 0.02\n",
      "episode: 783/800, returns: 73.6912076987, epsilon: 0.02\n",
      "episode: 784/800, returns: 68.4381404181, epsilon: 0.02\n",
      "episode: 785/800, returns: 77.1289156638, epsilon: 0.02\n",
      "episode: 786/800, returns: 66.7894085188, epsilon: 0.02\n",
      "episode: 787/800, returns: 65.8285156049, epsilon: 0.019\n",
      "episode: 788/800, returns: 71.130719667, epsilon: 0.019\n",
      "episode: 789/800, returns: 68.9112744689, epsilon: 0.019\n",
      "episode: 790/800, returns: 76.4265630837, epsilon: 0.019\n",
      "episode: 791/800, returns: 70.8781238739, epsilon: 0.019\n",
      "episode: 792/800, returns: 73.8700493058, epsilon: 0.019\n",
      "episode: 793/800, returns: 66.705299425, epsilon: 0.019\n",
      "episode: 794/800, returns: 74.5418017197, epsilon: 0.019\n",
      "episode: 795/800, returns: 63.0797672361, epsilon: 0.019\n",
      "episode: 796/800, returns: 11.2720057653, epsilon: 0.019\n",
      "episode: 797/800, returns: 0.0, epsilon: 0.019\n",
      "episode: 798/800, returns: 22.5033277906, epsilon: 0.018\n",
      "episode: 799/800, returns: 2.75191109496, epsilon: 0.018\n",
      "episode: 800/800, returns: 39.6349664812, epsilon: 0.018\n"
     ]
    }
   ],
   "source": [
    "trader.train(num_episodes=800)"
   ]
  },
  {
   "cell_type": "code",
   "execution_count": 8,
   "metadata": {},
   "outputs": [
    {
     "data": {
      "image/png": "[encoded data removed]",
      "text/plain": [
       "<matplotlib.figure.Figure at 0x7f0e5ed98250>"
      ]
     },
     "metadata": {},
     "output_type": "display_data"
    }
   ],
   "source": [
    "trader.plot_cum_returns()"
   ]
  },
  {
   "cell_type": "code",
   "execution_count": 9,
   "metadata": {},
   "outputs": [
    {
     "name": "stdout",
     "output_type": "stream",
     "text": [
      "Action.HOLD\n",
      "Action.HOLD\n",
      "Action.HOLD\n",
      "Action.HOLD\n",
      "Action.HOLD\n",
      "Action.HOLD\n",
      "Action.HOLD\n",
      "Action.HOLD\n",
      "Action.HOLD\n",
      "Action.HOLD\n",
      "Action.HOLD\n",
      "Action.HOLD\n",
      "Action.HOLD\n",
      "Action.HOLD\n",
      "Action.HOLD\n",
      "Action.HOLD\n",
      "Action.HOLD\n",
      "Action.HOLD\n",
      "Action.HOLD\n",
      "Action.HOLD\n",
      "Action.HOLD\n",
      "Action.HOLD\n",
      "Action.HOLD\n",
      "Action.HOLD\n",
      "Action.HOLD\n",
      "Action.HOLD\n",
      "Action.HOLD\n",
      "Action.HOLD\n",
      "Action.HOLD\n",
      "Action.HOLD\n",
      "Action.HOLD\n",
      "Action.HOLD\n",
      "Action.HOLD\n",
      "Action.HOLD\n",
      "Action.HOLD\n",
      "Action.HOLD\n",
      "Action.HOLD\n",
      "Action.HOLD\n",
      "Action.HOLD\n",
      "Action.HOLD\n",
      "Action.HOLD\n",
      "Action.HOLD\n",
      "Action.HOLD\n",
      "Action.HOLD\n",
      "Action.HOLD\n",
      "Action.HOLD\n",
      "Action.HOLD\n",
      "Action.HOLD\n",
      "Action.HOLD\n",
      "Action.HOLD\n",
      "Action.HOLD\n",
      "Action.HOLD\n",
      "Action.HOLD\n",
      "Action.HOLD\n",
      "Action.HOLD\n",
      "Action.HOLD\n",
      "Action.HOLD\n",
      "Action.HOLD\n",
      "Action.HOLD\n",
      "Action.HOLD\n",
      "Action.HOLD\n",
      "Action.HOLD\n",
      "Action.HOLD\n",
      "Action.HOLD\n",
      "Action.HOLD\n",
      "Action.HOLD\n",
      "Action.HOLD\n",
      "Action.HOLD\n",
      "Action.HOLD\n",
      "Action.HOLD\n",
      "Action.HOLD\n",
      "Action.HOLD\n",
      "Action.HOLD\n",
      "Action.HOLD\n",
      "Action.BUY\n",
      "Action.HOLD\n",
      "Action.HOLD\n",
      "Action.HOLD\n",
      "Action.HOLD\n",
      "Action.HOLD\n",
      "Action.HOLD\n",
      "Action.HOLD\n",
      "Action.HOLD\n",
      "Action.HOLD\n",
      "Action.HOLD\n",
      "Action.HOLD\n",
      "Action.HOLD\n",
      "Action.HOLD\n",
      "Action.HOLD\n",
      "Action.HOLD\n",
      "Action.HOLD\n",
      "Action.HOLD\n",
      "Action.HOLD\n",
      "Action.HOLD\n",
      "Action.HOLD\n",
      "Action.HOLD\n",
      "Action.HOLD\n",
      "Action.HOLD\n",
      "Action.HOLD\n",
      "Action.HOLD\n",
      "Action.HOLD\n",
      "Action.HOLD\n",
      "Action.HOLD\n",
      "Action.HOLD\n",
      "Action.HOLD\n",
      "Action.HOLD\n",
      "Action.HOLD\n",
      "Action.HOLD\n",
      "Action.HOLD\n",
      "Action.HOLD\n",
      "Action.HOLD\n",
      "Action.HOLD\n",
      "Action.HOLD\n",
      "Action.HOLD\n",
      "Action.HOLD\n",
      "Action.HOLD\n",
      "Action.HOLD\n",
      "Action.HOLD\n",
      "Action.HOLD\n",
      "Action.HOLD\n",
      "Action.HOLD\n",
      "Action.HOLD\n",
      "Action.HOLD\n",
      "Action.HOLD\n",
      "Action.HOLD\n",
      "Action.HOLD\n",
      "Action.HOLD\n",
      "Action.HOLD\n",
      "Action.HOLD\n",
      "Action.HOLD\n",
      "Action.HOLD\n",
      "Action.HOLD\n",
      "Action.HOLD\n",
      "Action.HOLD\n",
      "Action.HOLD\n",
      "Action.HOLD\n",
      "Action.HOLD\n",
      "Action.HOLD\n",
      "Action.HOLD\n",
      "Action.HOLD\n",
      "Action.HOLD\n",
      "Action.HOLD\n",
      "Action.HOLD\n",
      "Action.HOLD\n",
      "Action.HOLD\n",
      "Action.HOLD\n",
      "Action.HOLD\n",
      "Action.HOLD\n",
      "Action.HOLD\n",
      "Action.HOLD\n",
      "Action.HOLD\n",
      "Action.HOLD\n",
      "Action.HOLD\n",
      "Action.HOLD\n",
      "Action.HOLD\n",
      "Action.HOLD\n",
      "Action.HOLD\n",
      "Action.HOLD\n",
      "Action.HOLD\n",
      "Action.HOLD\n",
      "Action.HOLD\n",
      "Action.HOLD\n",
      "Action.HOLD\n",
      "Action.HOLD\n",
      "Action.HOLD\n",
      "Action.HOLD\n",
      "Action.HOLD\n",
      "Action.HOLD\n",
      "Action.HOLD\n",
      "Action.HOLD\n",
      "Action.HOLD\n",
      "Action.HOLD\n",
      "Action.HOLD\n",
      "Action.HOLD\n",
      "Action.HOLD\n",
      "Action.HOLD\n",
      "Action.HOLD\n",
      "Action.HOLD\n",
      "Action.BUY\n",
      "Action.HOLD\n",
      "Action.HOLD\n",
      "Action.HOLD\n",
      "Action.HOLD\n",
      "Action.HOLD\n",
      "Action.HOLD\n",
      "Action.HOLD\n",
      "Action.HOLD\n",
      "Action.HOLD\n",
      "Action.HOLD\n",
      "Action.HOLD\n",
      "Action.HOLD\n",
      "Action.HOLD\n",
      "Action.HOLD\n",
      "Action.HOLD\n",
      "Action.HOLD\n",
      "Action.HOLD\n",
      "Action.HOLD\n",
      "Action.HOLD\n",
      "Action.HOLD\n",
      "Action.HOLD\n",
      "Action.HOLD\n",
      "Action.HOLD\n",
      "Action.HOLD\n",
      "Action.HOLD\n",
      "Action.HOLD\n",
      "Action.HOLD\n",
      "Action.HOLD\n",
      "Action.HOLD\n",
      "Action.HOLD\n",
      "Action.HOLD\n",
      "Action.HOLD\n",
      "Action.HOLD\n",
      "Action.HOLD\n",
      "Action.HOLD\n",
      "Action.HOLD\n",
      "Action.HOLD\n",
      "Action.HOLD\n",
      "Action.HOLD\n",
      "Action.HOLD\n",
      "Action.HOLD\n",
      "Action.HOLD\n",
      "Action.HOLD\n",
      "Action.HOLD\n",
      "Action.HOLD\n",
      "Action.HOLD\n",
      "Action.HOLD\n",
      "Action.HOLD\n",
      "Action.HOLD\n",
      "Action.HOLD\n",
      "Action.HOLD\n",
      "Action.HOLD\n",
      "Action.HOLD\n",
      "Action.HOLD\n",
      "Action.HOLD\n",
      "Action.HOLD\n",
      "Action.HOLD\n",
      "Action.HOLD\n",
      "Action.HOLD\n",
      "Action.HOLD\n",
      "Action.HOLD\n",
      "Action.HOLD\n",
      "Action.HOLD\n",
      "Action.HOLD\n",
      "Action.HOLD\n",
      "Action.HOLD\n",
      "21.0931672121\n"
     ]
    }
   ],
   "source": [
    "trader.test()"
   ]
  },
  {
   "cell_type": "code",
   "execution_count": null,
   "metadata": {
    "collapsed": true
   },
   "outputs": [],
   "source": []
  },
  {
   "cell_type": "code",
   "execution_count": null,
   "metadata": {
    "collapsed": true
   },
   "outputs": [],
   "source": []
  },
  {
   "cell_type": "code",
   "execution_count": null,
   "metadata": {
    "collapsed": true
   },
   "outputs": [],
   "source": []
  }
 ],
 "metadata": {
  "kernelspec": {
   "display_name": "Python 2",
   "language": "python",
   "name": "python2"
  },
  "language_info": {
   "codemirror_mode": {
    "name": "ipython",
    "version": 2
   },
   "file_extension": ".py",
   "mimetype": "text/x-python",
   "name": "python",
   "nbconvert_exporter": "python",
   "pygments_lexer": "ipython2",
   "version": "2.7.13"
  }
 },
 "nbformat": 4,
 "nbformat_minor": 2
}
